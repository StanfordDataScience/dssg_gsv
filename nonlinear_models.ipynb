{
 "cells": [
  {
   "cell_type": "markdown",
   "id": "8ac6cc85",
   "metadata": {},
   "source": [
    "# Non-linear models\n",
    "\n",
    "Author: Evelyn Fitzgerald\n",
    "\n",
    "We decided to use a ResNet-18 neural network modified to do regression &ndash; output a real-valued scalar score indicating the level of blight in a picture. A neural network can be thought of as having two components:\n",
    "\n",
    "- a feature extractor, which transforms the input data (which is high-dimensional) into a lower-dimensional feature space that is suitable for the task at hand; and\n",
    "- a \"head\" that transforms the feature vectors into output values (such as class probabilities for classification or scores for regression).\n",
    "\n",
    "In our model, the head is an `nn.Linear` layer that transforms the feature vectors of size 512 into scalars using the formula $y = w \\cdot x + b$, where $w$ and $b$ are learned parameters. In this notebook, I tried modifying the head of the neural network in two ways:\n",
    "\n",
    "- fine-tuning it, i.e. freezing the other parts of the neural network so that only the weights of the head would be updated during training; and\n",
    "- replacing it with a layer that does a quadratic transformation on the feature vectors (e.g. $y = x^T A x + B x + C$) instead of a linear one.\n",
    "\n",
    "At its simplest, a quadratic layer can be created by combining an `nn.Bilinear` layer (which does the $x^T A x$ part) and an `nn.Linear` layer (which does the $B x + C$ part). However, it tends to produce outliers that are far outside the normal output range. Our neural network predicts [TrueSkill scores](https://en.wikipedia.org/wiki/TrueSkill), which must be in the range [0, 50]. So I had to explicitly constrain the output to be in this range, which I did by passing the quadratic outputs through a scaled sigmoid function: $y = \\sigma(z / 50) \\cdot 50$. The standard logistic function $\\sigma(\\cdot)$ compresses the entire real line into the interval [0, 1], so the output must be scaled by a factor of 50 to span the interval [0, 50]. The input is also scaled down to avoid the vanishing gradient problem: since most of the TrueSkill scores are near 25, the center of the range of valid TrueSkill scores, we want to scale the quadratic outputs so that most of the values are near 0.5, where the gradient of the sigmoid is highest. If we applied the sigmoid without scaling the scores down first, most of the gradients would be very small.\n",
    "\n",
    "## Summary of results\n",
    "\n",
    "- Original model: R<sup>2</sup> = 0.306\n",
    "- Fine-tuned linear model: R<sup>2</sup> = 0.298\n",
    "- Quadratic model: R<sup>2</sup> = 0.259\n",
    "\n",
    "Using the [coefficient of determination](https://en.wikipedia.org/wiki/Coefficient_of_determination) (R<sup>2</sup>) as our main metric, the quadratic model performed worse than either the fine-tuned linear model or the original model. Having many more parameters than the linear models, the quadratic model may have overfit the training set.\n"
   ]
  },
  {
   "cell_type": "code",
   "execution_count": 1,
   "id": "ddf56684",
   "metadata": {},
   "outputs": [],
   "source": [
    "%matplotlib inline\n",
    "import matplotlib.pyplot as plt\n",
    "\n",
    "import torch\n",
    "import torch.nn as nn\n",
    "import torch.optim as optim\n",
    "from torch.utils.data import DataLoader\n",
    "import torchvision.models as models\n",
    "import torchvision.transforms as transforms\n",
    "from tqdm.autonotebook import tqdm, trange\n",
    "\n",
    "import numpy as np\n",
    "import statistics\n",
    "from copy import deepcopy\n",
    "from scipy.stats import norm, linregress\n",
    "\n",
    "from sklearn import metrics\n",
    "from sklearn.cluster import KMeans\n",
    "from sklearn.metrics import confusion_matrix as cm, classification_report as cr\n",
    "from sklearn.manifold import TSNE\n",
    "\n",
    "import train\n",
    "from data import get_loader, ImageDataset"
   ]
  },
  {
   "cell_type": "code",
   "execution_count": 2,
   "id": "e9df8415",
   "metadata": {},
   "outputs": [],
   "source": [
    "# Mock CLI args\n",
    "args = {\n",
    "    'pretrain': False,\n",
    "    'label_type': 'regr', # requires PR #2: https://github.com/Changing-Cities-Research-Lab/gsv-ml-buildings-new/pull/2\n",
    "    'batch_size': 16,\n",
    "    'lr': 3e-5, # set larger learning rate because we're not fine-tuning the NN (or just try 1e-5)\n",
    "    'l2': 3e-4,\n",
    "    'gpu': True,\n",
    "    'weighted': True,\n",
    "    'upsample': False,\n",
    "    'add_bos': False,\n",
    "    'data_path': '../../gsv-ml-buildings-new', # Use main gsv directory instead of os.chdir\n",
    "    'time_series': False\n",
    "}"
   ]
  },
  {
   "cell_type": "code",
   "execution_count": 3,
   "id": "b79325eb",
   "metadata": {},
   "outputs": [
    {
     "name": "stdout",
     "output_type": "stream",
     "text": [
      "0_133922.pth   15_960381.pth  20_989647.pth  2_487032.pth   7_770044.pth\n",
      "10_864810.pth  16_971441.pth  21_991812.pth  31_993272.pth  8_810045.pth\n",
      "11_892440.pth  17_976384.pth  22_992418.pth  3_555932.pth   9_829612.pth\n",
      "12_916021.pth  18_984471.pth  24_992476.pth  4_621032.pth\n",
      "13_936272.pth  19_989011.pth  25_993089.pth  5_684790.pth\n",
      "14_947992.pth  1_355770.pth   26_993196.pth  6_722782.pth\n"
     ]
    }
   ],
   "source": [
    "!ls ../../tingyan.deng/gsv-ml-buildings-new-2-inception/exps/resnet18/checkpoints"
   ]
  },
  {
   "cell_type": "code",
   "execution_count": 4,
   "id": "81cb382c",
   "metadata": {},
   "outputs": [],
   "source": [
    "model = models.resnet18(pretrained=False)\n",
    "state_dict = torch.load('../../tingyan.deng/gsv-ml-buildings-new-2-inception/exps/resnet18/checkpoints/31_993272.pth')\n",
    "model.fc = nn.Linear(512, 1, True)\n",
    "model.load_state_dict(state_dict)\n",
    "model = model.eval().cuda()"
   ]
  },
  {
   "cell_type": "code",
   "execution_count": 5,
   "id": "57c8001f",
   "metadata": {},
   "outputs": [],
   "source": [
    "train_boston = ImageDataset([f\"{args['data_path']}/datasets/boston/\"], 'train', 'regr')\n",
    "val_boston = ImageDataset([f\"{args['data_path']}/datasets/boston/\"], 'val', 'regr')\n",
    "train_detroit = ImageDataset([f\"{args['data_path']}/datasets/detroit/\"], 'train', 'regr')\n",
    "val_detroit = ImageDataset([f\"{args['data_path']}/datasets/detroit/\"], 'val', 'regr')"
   ]
  },
  {
   "cell_type": "code",
   "execution_count": 6,
   "id": "35ac107d",
   "metadata": {},
   "outputs": [],
   "source": [
    "def make_loader(dataset):\n",
    "    return DataLoader(dataset, batch_size=args['batch_size'], shuffle=False, num_workers=0, sampler=None)"
   ]
  },
  {
   "cell_type": "code",
   "execution_count": 7,
   "id": "d4e6f3f6",
   "metadata": {},
   "outputs": [],
   "source": [
    "train_loader_boston = make_loader(train_boston)\n",
    "val_loader_boston = make_loader(val_boston)\n",
    "train_loader_detroit = make_loader(train_detroit)\n",
    "val_loader_detroit = make_loader(val_detroit)"
   ]
  },
  {
   "cell_type": "code",
   "execution_count": 8,
   "id": "67424bd6",
   "metadata": {},
   "outputs": [
    {
     "data": {
      "text/plain": [
       "(741, 1000)"
      ]
     },
     "execution_count": 8,
     "metadata": {},
     "output_type": "execute_result"
    }
   ],
   "source": [
    "len(val_boston), len(val_detroit)"
   ]
  },
  {
   "cell_type": "markdown",
   "id": "24d902fc",
   "metadata": {},
   "source": [
    "## Trying out different regression models\n",
    "- Original\n",
    "- Trained linear\n",
    "- Trained quadratic\n"
   ]
  },
  {
   "cell_type": "code",
   "execution_count": 9,
   "id": "db758fcb",
   "metadata": {},
   "outputs": [],
   "source": [
    "def get_outputs(model, val_loader):\n",
    "    model.eval()\n",
    "    outputs_list = []\n",
    "    for imgs, scores in tqdm(val_loader, desc='Eval model'):\n",
    "        imgs = imgs.cuda()\n",
    "        outputs = model(imgs).cpu().detach().numpy()\n",
    "        outputs_list.append(outputs)\n",
    "    return np.concatenate(outputs_list)\n",
    "\n",
    "def get_pred_scores(model, val_loader):\n",
    "    '''Get a NumPy array of all the scores predicted by the model on the dataset.'''\n",
    "    all_pred_scores = get_outputs(model, val_loader)\n",
    "    return all_pred_scores.squeeze(axis=1)"
   ]
  },
  {
   "cell_type": "code",
   "execution_count": 10,
   "id": "bed312f2",
   "metadata": {},
   "outputs": [],
   "source": [
    "def plot_line(slope, intercept, color, label):\n",
    "    \"\"\"Plot a line from slope and intercept\n",
    "    plt.axline not available in this version, so use this instead\n",
    "    From https://stackoverflow.com/a/43811762\"\"\"\n",
    "    axes = plt.gca()\n",
    "    x_vals = np.array(axes.get_xlim())\n",
    "    y_vals = intercept + slope * x_vals\n",
    "    plt.plot(x_vals, y_vals, '-' + color, label=label)\n",
    "\n",
    "def plot_linreg(scores, pred_scores, linreg_obj, title):\n",
    "    plt.title(title)\n",
    "    plt.scatter(scores, pred_scores)\n",
    "    plot_line(linreg_obj.slope, linreg_obj.intercept, 'r', f'Fitted line (R**2 = {linreg_obj.rvalue**2:.3f})')\n",
    "    plot_line(1, 0, 'm', 'Ideal line')\n",
    "    plt.xlabel('Actual scores')\n",
    "    plt.ylabel('Predicted scores')\n",
    "    plt.legend()"
   ]
  },
  {
   "cell_type": "markdown",
   "id": "d95a654b",
   "metadata": {},
   "source": [
    "### Original linear model"
   ]
  },
  {
   "cell_type": "code",
   "execution_count": 11,
   "id": "7da4bed5",
   "metadata": {},
   "outputs": [],
   "source": [
    "scores_detroit = val_detroit.csv.score.to_numpy()"
   ]
  },
  {
   "cell_type": "code",
   "execution_count": 12,
   "id": "eb247d77",
   "metadata": {},
   "outputs": [
    {
     "data": {
      "application/vnd.jupyter.widget-view+json": {
       "model_id": "be243d531644402cb73bc279a1b35f6c",
       "version_major": 2,
       "version_minor": 0
      },
      "text/plain": [
       "Eval model:   0%|          | 0/63 [00:00<?, ?it/s]"
      ]
     },
     "metadata": {},
     "output_type": "display_data"
    }
   ],
   "source": [
    "pred_scores_detroit = get_pred_scores(model, val_loader_detroit)"
   ]
  },
  {
   "cell_type": "code",
   "execution_count": 13,
   "id": "00ab2322",
   "metadata": {},
   "outputs": [],
   "source": [
    "linreg_detroit = linregress(scores_detroit, pred_scores_detroit)"
   ]
  },
  {
   "cell_type": "code",
   "execution_count": 14,
   "id": "c934d545",
   "metadata": {},
   "outputs": [
    {
     "data": {
      "text/plain": [
       "LinregressResult(slope=0.35780950566636754, intercept=15.987287773725727, rvalue=0.5527595312756984, pvalue=4.362663918418054e-81, stderr=0.01707548359911857)"
      ]
     },
     "execution_count": 14,
     "metadata": {},
     "output_type": "execute_result"
    }
   ],
   "source": [
    "linreg_detroit"
   ]
  },
  {
   "cell_type": "code",
   "execution_count": 15,
   "id": "a008a324",
   "metadata": {},
   "outputs": [
    {
     "data": {
      "image/png": "[encoded data removed]",
      "text/plain": [
       "<Figure size 432x288 with 1 Axes>"
      ]
     },
     "metadata": {
      "needs_background": "light"
     },
     "output_type": "display_data"
    }
   ],
   "source": [
    "%matplotlib inline\n",
    "plot_linreg(scores_detroit, pred_scores_detroit, linreg_detroit, 'Original model')"
   ]
  },
  {
   "cell_type": "markdown",
   "id": "9728015d",
   "metadata": {},
   "source": [
    "### Trained linear model"
   ]
  },
  {
   "cell_type": "code",
   "execution_count": 16,
   "id": "c4ecb7c6",
   "metadata": {},
   "outputs": [],
   "source": [
    "def prepare_model(model, new_head=None):\n",
    "    model_copy = deepcopy(model)\n",
    "    if new_head:\n",
    "        model_copy.fc = new_head\n",
    "    # Freeze everything except the head\n",
    "    model_copy.requires_grad_(False)\n",
    "    model_copy.fc.requires_grad_(True)\n",
    "    return model_copy"
   ]
  },
  {
   "cell_type": "code",
   "execution_count": 17,
   "id": "c5817f88",
   "metadata": {},
   "outputs": [],
   "source": [
    "model_linear = prepare_model(model)"
   ]
  },
  {
   "cell_type": "code",
   "execution_count": 18,
   "id": "3e29f70b",
   "metadata": {},
   "outputs": [],
   "source": [
    "optimizer_linear = optim.Adam(model_linear.parameters(), lr=args['lr'], weight_decay=args['l2'])"
   ]
  },
  {
   "cell_type": "code",
   "execution_count": 19,
   "id": "af4a558a",
   "metadata": {},
   "outputs": [
    {
     "data": {
      "application/vnd.jupyter.widget-view+json": {
       "model_id": "f8e140667056432a85ec6204b756e814",
       "version_major": 2,
       "version_minor": 0
      },
      "text/plain": [
       "  0%|          | 0/5 [00:00<?, ?it/s]"
      ]
     },
     "metadata": {},
     "output_type": "display_data"
    },
    {
     "data": {
      "application/vnd.jupyter.widget-view+json": {
       "model_id": "23fef8a0da374c9398d6210079628ebc",
       "version_major": 2,
       "version_minor": 0
      },
      "text/plain": [
       "train 1:   0%|          | 0/250 [00:00<?, ?it/s]"
      ]
     },
     "metadata": {},
     "output_type": "display_data"
    },
    {
     "name": "stdout",
     "output_type": "stream",
     "text": [
      "train 1\n",
      "Loss\t3.303\n"
     ]
    },
    {
     "data": {
      "application/vnd.jupyter.widget-view+json": {
       "model_id": "f4280d83c1a14413931079145e2b899a",
       "version_major": 2,
       "version_minor": 0
      },
      "text/plain": [
       "eval 1:   0%|          | 0/63 [00:00<?, ?it/s]"
      ]
     },
     "metadata": {},
     "output_type": "display_data"
    },
    {
     "name": "stdout",
     "output_type": "stream",
     "text": [
      "eval 1\n",
      "Loss\t4.327\n"
     ]
    },
    {
     "data": {
      "application/vnd.jupyter.widget-view+json": {
       "model_id": "e77d5d85c2b9475685b31f43afc1ff1e",
       "version_major": 2,
       "version_minor": 0
      },
      "text/plain": [
       "train 2:   0%|          | 0/250 [00:00<?, ?it/s]"
      ]
     },
     "metadata": {},
     "output_type": "display_data"
    },
    {
     "name": "stdout",
     "output_type": "stream",
     "text": [
      "train 2\n",
      "Loss\t3.322\n"
     ]
    },
    {
     "data": {
      "application/vnd.jupyter.widget-view+json": {
       "model_id": "d277f346f50843058c3a01d9c41bc828",
       "version_major": 2,
       "version_minor": 0
      },
      "text/plain": [
       "eval 2:   0%|          | 0/63 [00:00<?, ?it/s]"
      ]
     },
     "metadata": {},
     "output_type": "display_data"
    },
    {
     "name": "stdout",
     "output_type": "stream",
     "text": [
      "eval 2\n",
      "Loss\t4.297\n"
     ]
    },
    {
     "data": {
      "application/vnd.jupyter.widget-view+json": {
       "model_id": "7ee1b43ca60746f2b2bcf44ad5a12412",
       "version_major": 2,
       "version_minor": 0
      },
      "text/plain": [
       "train 3:   0%|          | 0/250 [00:00<?, ?it/s]"
      ]
     },
     "metadata": {},
     "output_type": "display_data"
    },
    {
     "name": "stdout",
     "output_type": "stream",
     "text": [
      "train 3\n",
      "Loss\t3.415\n"
     ]
    },
    {
     "data": {
      "application/vnd.jupyter.widget-view+json": {
       "model_id": "b2e5a3983c0c49abb45d69fac5805fe1",
       "version_major": 2,
       "version_minor": 0
      },
      "text/plain": [
       "eval 3:   0%|          | 0/63 [00:00<?, ?it/s]"
      ]
     },
     "metadata": {},
     "output_type": "display_data"
    },
    {
     "name": "stdout",
     "output_type": "stream",
     "text": [
      "eval 3\n",
      "Loss\t4.337\n"
     ]
    },
    {
     "data": {
      "application/vnd.jupyter.widget-view+json": {
       "model_id": "1b7e3a9fa07d43d795c5651861822e5c",
       "version_major": 2,
       "version_minor": 0
      },
      "text/plain": [
       "train 4:   0%|          | 0/250 [00:00<?, ?it/s]"
      ]
     },
     "metadata": {},
     "output_type": "display_data"
    },
    {
     "name": "stdout",
     "output_type": "stream",
     "text": [
      "train 4\n",
      "Loss\t3.370\n"
     ]
    },
    {
     "data": {
      "application/vnd.jupyter.widget-view+json": {
       "model_id": "5c3b323d68664cd6a24c643e74049b46",
       "version_major": 2,
       "version_minor": 0
      },
      "text/plain": [
       "eval 4:   0%|          | 0/63 [00:00<?, ?it/s]"
      ]
     },
     "metadata": {},
     "output_type": "display_data"
    },
    {
     "name": "stdout",
     "output_type": "stream",
     "text": [
      "eval 4\n",
      "Loss\t4.333\n"
     ]
    },
    {
     "data": {
      "application/vnd.jupyter.widget-view+json": {
       "model_id": "2152ae2966f24f11bdd5468d8279d87f",
       "version_major": 2,
       "version_minor": 0
      },
      "text/plain": [
       "train 5:   0%|          | 0/250 [00:00<?, ?it/s]"
      ]
     },
     "metadata": {},
     "output_type": "display_data"
    },
    {
     "name": "stdout",
     "output_type": "stream",
     "text": [
      "train 5\n",
      "Loss\t3.384\n"
     ]
    },
    {
     "data": {
      "application/vnd.jupyter.widget-view+json": {
       "model_id": "c642dc0dbcce40218da6da5b8a27889c",
       "version_major": 2,
       "version_minor": 0
      },
      "text/plain": [
       "eval 5:   0%|          | 0/63 [00:00<?, ?it/s]"
      ]
     },
     "metadata": {},
     "output_type": "display_data"
    },
    {
     "name": "stdout",
     "output_type": "stream",
     "text": [
      "eval 5\n",
      "Loss\t4.374\n"
     ]
    }
   ],
   "source": [
    "for i in trange(5):\n",
    "    train.train(model_linear, train_loader_detroit, optimizer_linear, args, i)\n",
    "    train.eval(model_linear, val_loader_detroit, args, i)"
   ]
  },
  {
   "cell_type": "code",
   "execution_count": 20,
   "id": "822405c6",
   "metadata": {},
   "outputs": [
    {
     "data": {
      "application/vnd.jupyter.widget-view+json": {
       "model_id": "09f8bbef18534ff0a4af2726eadf9853",
       "version_major": 2,
       "version_minor": 0
      },
      "text/plain": [
       "Eval model:   0%|          | 0/63 [00:00<?, ?it/s]"
      ]
     },
     "metadata": {},
     "output_type": "display_data"
    }
   ],
   "source": [
    "pred_scores_linear = get_pred_scores(model_linear, val_loader_detroit)"
   ]
  },
  {
   "cell_type": "code",
   "execution_count": 21,
   "id": "3dee94d6",
   "metadata": {},
   "outputs": [],
   "source": [
    "linreg_linear_trained = linregress(scores_detroit, pred_scores_linear)"
   ]
  },
  {
   "cell_type": "code",
   "execution_count": 22,
   "id": "3c30c75e",
   "metadata": {},
   "outputs": [
    {
     "data": {
      "text/plain": [
       "LinregressResult(slope=0.3554117809627549, intercept=15.836896826280887, rvalue=0.5458029807194766, pvalue=1.0399780234937795e-78, stderr=0.01727149200030284)"
      ]
     },
     "execution_count": 22,
     "metadata": {},
     "output_type": "execute_result"
    }
   ],
   "source": [
    "linreg_linear_trained"
   ]
  },
  {
   "cell_type": "code",
   "execution_count": 23,
   "id": "48cb1734",
   "metadata": {},
   "outputs": [
    {
     "data": {
      "image/png": "[encoded data removed]",
      "text/plain": [
       "<Figure size 432x288 with 1 Axes>"
      ]
     },
     "metadata": {
      "needs_background": "light"
     },
     "output_type": "display_data"
    }
   ],
   "source": [
    "plot_linreg(scores_detroit, pred_scores_linear, linreg_linear_trained, 'Trained linear model')"
   ]
  },
  {
   "cell_type": "markdown",
   "id": "9d22ea56",
   "metadata": {},
   "source": [
    "### Quadratic model"
   ]
  },
  {
   "cell_type": "code",
   "execution_count": 24,
   "id": "27a0b1de",
   "metadata": {},
   "outputs": [],
   "source": [
    "class Quadratic(nn.Module):\n",
    "    def __init__(self, in_features, out_features, bias=True):\n",
    "        super(Quadratic, self).__init__()\n",
    "        self.quad = nn.Bilinear(in_features, in_features, out_features, bias=False)\n",
    "        self.linear = nn.Linear(in_features, out_features, bias=bias)\n",
    "        self.sigmoid = nn.Sigmoid()\n",
    "    \n",
    "    def forward(self, x):\n",
    "        # x^T*A*x + B*x + C\n",
    "        axx = self.quad(x, x)\n",
    "        bxc = self.linear(x)\n",
    "        z = axx + bxc\n",
    "        # Apply sigmoid and scale by 50\n",
    "        return self.sigmoid(z / 50) * 50"
   ]
  },
  {
   "cell_type": "code",
   "execution_count": 25,
   "id": "700ddd47",
   "metadata": {},
   "outputs": [],
   "source": [
    "model_quadratic = prepare_model(model, new_head=Quadratic(512, 1)).cuda()"
   ]
  },
  {
   "cell_type": "code",
   "execution_count": 26,
   "id": "75e78c03",
   "metadata": {},
   "outputs": [],
   "source": [
    "optimizer_quadratic = optim.Adam(model_quadratic.parameters(), lr=args['lr'], weight_decay=args['l2'])"
   ]
  },
  {
   "cell_type": "code",
   "execution_count": 27,
   "id": "191dc987",
   "metadata": {},
   "outputs": [
    {
     "data": {
      "application/vnd.jupyter.widget-view+json": {
       "model_id": "5ce18da6738f42fb9c29da53cee79e2e",
       "version_major": 2,
       "version_minor": 0
      },
      "text/plain": [
       "  0%|          | 0/15 [00:00<?, ?it/s]"
      ]
     },
     "metadata": {},
     "output_type": "display_data"
    },
    {
     "data": {
      "application/vnd.jupyter.widget-view+json": {
       "model_id": "f8bf61bf5cea43ddb9b0e27213780be5",
       "version_major": 2,
       "version_minor": 0
      },
      "text/plain": [
       "train 1:   0%|          | 0/250 [00:00<?, ?it/s]"
      ]
     },
     "metadata": {},
     "output_type": "display_data"
    },
    {
     "name": "stdout",
     "output_type": "stream",
     "text": [
      "train 1\n",
      "Loss\t5.777\n"
     ]
    },
    {
     "data": {
      "application/vnd.jupyter.widget-view+json": {
       "model_id": "d93cbcf037e946a7bb09fc4903d357be",
       "version_major": 2,
       "version_minor": 0
      },
      "text/plain": [
       "eval 1:   0%|          | 0/63 [00:00<?, ?it/s]"
      ]
     },
     "metadata": {},
     "output_type": "display_data"
    },
    {
     "name": "stdout",
     "output_type": "stream",
     "text": [
      "eval 1\n",
      "Loss\t7.216\n"
     ]
    },
    {
     "data": {
      "application/vnd.jupyter.widget-view+json": {
       "model_id": "fd2cc6382bf346c99101d83d84c9748f",
       "version_major": 2,
       "version_minor": 0
      },
      "text/plain": [
       "train 2:   0%|          | 0/250 [00:00<?, ?it/s]"
      ]
     },
     "metadata": {},
     "output_type": "display_data"
    },
    {
     "name": "stdout",
     "output_type": "stream",
     "text": [
      "train 2\n",
      "Loss\t4.895\n"
     ]
    },
    {
     "data": {
      "application/vnd.jupyter.widget-view+json": {
       "model_id": "c4d4c6fcdd1a4fe3a48fbaff4e204352",
       "version_major": 2,
       "version_minor": 0
      },
      "text/plain": [
       "eval 2:   0%|          | 0/63 [00:00<?, ?it/s]"
      ]
     },
     "metadata": {},
     "output_type": "display_data"
    },
    {
     "name": "stdout",
     "output_type": "stream",
     "text": [
      "eval 2\n",
      "Loss\t7.353\n"
     ]
    },
    {
     "data": {
      "application/vnd.jupyter.widget-view+json": {
       "model_id": "a9ae6b25ade5473f9b577b69fd288c48",
       "version_major": 2,
       "version_minor": 0
      },
      "text/plain": [
       "train 3:   0%|          | 0/250 [00:00<?, ?it/s]"
      ]
     },
     "metadata": {},
     "output_type": "display_data"
    },
    {
     "name": "stdout",
     "output_type": "stream",
     "text": [
      "train 3\n",
      "Loss\t4.732\n"
     ]
    },
    {
     "data": {
      "application/vnd.jupyter.widget-view+json": {
       "model_id": "43b3ffad02eb45efafffbfd24c6bb6ea",
       "version_major": 2,
       "version_minor": 0
      },
      "text/plain": [
       "eval 3:   0%|          | 0/63 [00:00<?, ?it/s]"
      ]
     },
     "metadata": {},
     "output_type": "display_data"
    },
    {
     "name": "stdout",
     "output_type": "stream",
     "text": [
      "eval 3\n",
      "Loss\t4.958\n"
     ]
    },
    {
     "data": {
      "application/vnd.jupyter.widget-view+json": {
       "model_id": "a53cea01aa9949c6a3edf963cb5aa980",
       "version_major": 2,
       "version_minor": 0
      },
      "text/plain": [
       "train 4:   0%|          | 0/250 [00:00<?, ?it/s]"
      ]
     },
     "metadata": {},
     "output_type": "display_data"
    },
    {
     "name": "stdout",
     "output_type": "stream",
     "text": [
      "train 4\n",
      "Loss\t4.419\n"
     ]
    },
    {
     "data": {
      "application/vnd.jupyter.widget-view+json": {
       "model_id": "38e2e675138247b2a64d3efe4be01683",
       "version_major": 2,
       "version_minor": 0
      },
      "text/plain": [
       "eval 4:   0%|          | 0/63 [00:00<?, ?it/s]"
      ]
     },
     "metadata": {},
     "output_type": "display_data"
    },
    {
     "name": "stdout",
     "output_type": "stream",
     "text": [
      "eval 4\n",
      "Loss\t5.537\n"
     ]
    },
    {
     "data": {
      "application/vnd.jupyter.widget-view+json": {
       "model_id": "188c059c857748c9945a1fa55a625bab",
       "version_major": 2,
       "version_minor": 0
      },
      "text/plain": [
       "train 5:   0%|          | 0/250 [00:00<?, ?it/s]"
      ]
     },
     "metadata": {},
     "output_type": "display_data"
    },
    {
     "name": "stdout",
     "output_type": "stream",
     "text": [
      "train 5\n",
      "Loss\t4.400\n"
     ]
    },
    {
     "data": {
      "application/vnd.jupyter.widget-view+json": {
       "model_id": "87d740ccd05f4155824008c631486f97",
       "version_major": 2,
       "version_minor": 0
      },
      "text/plain": [
       "eval 5:   0%|          | 0/63 [00:00<?, ?it/s]"
      ]
     },
     "metadata": {},
     "output_type": "display_data"
    },
    {
     "name": "stdout",
     "output_type": "stream",
     "text": [
      "eval 5\n",
      "Loss\t4.613\n"
     ]
    },
    {
     "data": {
      "application/vnd.jupyter.widget-view+json": {
       "model_id": "fe524e6aedf44af580eae35938149579",
       "version_major": 2,
       "version_minor": 0
      },
      "text/plain": [
       "train 6:   0%|          | 0/250 [00:00<?, ?it/s]"
      ]
     },
     "metadata": {},
     "output_type": "display_data"
    },
    {
     "name": "stdout",
     "output_type": "stream",
     "text": [
      "train 6\n",
      "Loss\t4.401\n"
     ]
    },
    {
     "data": {
      "application/vnd.jupyter.widget-view+json": {
       "model_id": "245888badf384e73b465268228f953c5",
       "version_major": 2,
       "version_minor": 0
      },
      "text/plain": [
       "eval 6:   0%|          | 0/63 [00:00<?, ?it/s]"
      ]
     },
     "metadata": {},
     "output_type": "display_data"
    },
    {
     "name": "stdout",
     "output_type": "stream",
     "text": [
      "eval 6\n",
      "Loss\t5.355\n"
     ]
    },
    {
     "data": {
      "application/vnd.jupyter.widget-view+json": {
       "model_id": "933562b4ac894666afd391929769810f",
       "version_major": 2,
       "version_minor": 0
      },
      "text/plain": [
       "train 7:   0%|          | 0/250 [00:00<?, ?it/s]"
      ]
     },
     "metadata": {},
     "output_type": "display_data"
    },
    {
     "name": "stdout",
     "output_type": "stream",
     "text": [
      "train 7\n",
      "Loss\t4.242\n"
     ]
    },
    {
     "data": {
      "application/vnd.jupyter.widget-view+json": {
       "model_id": "8bb997990eb34903b6795f8dcfd05ba8",
       "version_major": 2,
       "version_minor": 0
      },
      "text/plain": [
       "eval 7:   0%|          | 0/63 [00:00<?, ?it/s]"
      ]
     },
     "metadata": {},
     "output_type": "display_data"
    },
    {
     "name": "stdout",
     "output_type": "stream",
     "text": [
      "eval 7\n",
      "Loss\t7.885\n"
     ]
    },
    {
     "data": {
      "application/vnd.jupyter.widget-view+json": {
       "model_id": "256aec1225914ebba354b69a62d8ab3d",
       "version_major": 2,
       "version_minor": 0
      },
      "text/plain": [
       "train 8:   0%|          | 0/250 [00:00<?, ?it/s]"
      ]
     },
     "metadata": {},
     "output_type": "display_data"
    },
    {
     "name": "stdout",
     "output_type": "stream",
     "text": [
      "train 8\n",
      "Loss\t4.144\n"
     ]
    },
    {
     "data": {
      "application/vnd.jupyter.widget-view+json": {
       "model_id": "721c0044f6b24ba78754d9e25cd6531c",
       "version_major": 2,
       "version_minor": 0
      },
      "text/plain": [
       "eval 8:   0%|          | 0/63 [00:00<?, ?it/s]"
      ]
     },
     "metadata": {},
     "output_type": "display_data"
    },
    {
     "name": "stdout",
     "output_type": "stream",
     "text": [
      "eval 8\n",
      "Loss\t6.663\n"
     ]
    },
    {
     "data": {
      "application/vnd.jupyter.widget-view+json": {
       "model_id": "f1afef4cf8a6475492a915c72f823be5",
       "version_major": 2,
       "version_minor": 0
      },
      "text/plain": [
       "train 9:   0%|          | 0/250 [00:00<?, ?it/s]"
      ]
     },
     "metadata": {},
     "output_type": "display_data"
    },
    {
     "name": "stdout",
     "output_type": "stream",
     "text": [
      "train 9\n",
      "Loss\t4.159\n"
     ]
    },
    {
     "data": {
      "application/vnd.jupyter.widget-view+json": {
       "model_id": "886202adb28a43b58cc2b599b33c2bc0",
       "version_major": 2,
       "version_minor": 0
      },
      "text/plain": [
       "eval 9:   0%|          | 0/63 [00:00<?, ?it/s]"
      ]
     },
     "metadata": {},
     "output_type": "display_data"
    },
    {
     "name": "stdout",
     "output_type": "stream",
     "text": [
      "eval 9\n",
      "Loss\t4.526\n"
     ]
    },
    {
     "data": {
      "application/vnd.jupyter.widget-view+json": {
       "model_id": "1678a0df6f7a490bab35b8f6753da66e",
       "version_major": 2,
       "version_minor": 0
      },
      "text/plain": [
       "train 10:   0%|          | 0/250 [00:00<?, ?it/s]"
      ]
     },
     "metadata": {},
     "output_type": "display_data"
    },
    {
     "name": "stdout",
     "output_type": "stream",
     "text": [
      "train 10\n",
      "Loss\t4.042\n"
     ]
    },
    {
     "data": {
      "application/vnd.jupyter.widget-view+json": {
       "model_id": "cf95c93dd6544bb5aa34a4bb303e5213",
       "version_major": 2,
       "version_minor": 0
      },
      "text/plain": [
       "eval 10:   0%|          | 0/63 [00:00<?, ?it/s]"
      ]
     },
     "metadata": {},
     "output_type": "display_data"
    },
    {
     "name": "stdout",
     "output_type": "stream",
     "text": [
      "eval 10\n",
      "Loss\t5.267\n"
     ]
    },
    {
     "data": {
      "application/vnd.jupyter.widget-view+json": {
       "model_id": "9713a56e8765422191b74c972902e9a3",
       "version_major": 2,
       "version_minor": 0
      },
      "text/plain": [
       "train 11:   0%|          | 0/250 [00:00<?, ?it/s]"
      ]
     },
     "metadata": {},
     "output_type": "display_data"
    },
    {
     "name": "stdout",
     "output_type": "stream",
     "text": [
      "train 11\n",
      "Loss\t4.098\n"
     ]
    },
    {
     "data": {
      "application/vnd.jupyter.widget-view+json": {
       "model_id": "aad7e1f4768b4bf39d68a4781903f0c7",
       "version_major": 2,
       "version_minor": 0
      },
      "text/plain": [
       "eval 11:   0%|          | 0/63 [00:00<?, ?it/s]"
      ]
     },
     "metadata": {},
     "output_type": "display_data"
    },
    {
     "name": "stdout",
     "output_type": "stream",
     "text": [
      "eval 11\n",
      "Loss\t5.264\n"
     ]
    },
    {
     "data": {
      "application/vnd.jupyter.widget-view+json": {
       "model_id": "a2d9962e96d54da6b0da4fc01a5f644c",
       "version_major": 2,
       "version_minor": 0
      },
      "text/plain": [
       "train 12:   0%|          | 0/250 [00:00<?, ?it/s]"
      ]
     },
     "metadata": {},
     "output_type": "display_data"
    },
    {
     "name": "stdout",
     "output_type": "stream",
     "text": [
      "train 12\n",
      "Loss\t4.163\n"
     ]
    },
    {
     "data": {
      "application/vnd.jupyter.widget-view+json": {
       "model_id": "0ced0136856346159771d148f7576928",
       "version_major": 2,
       "version_minor": 0
      },
      "text/plain": [
       "eval 12:   0%|          | 0/63 [00:00<?, ?it/s]"
      ]
     },
     "metadata": {},
     "output_type": "display_data"
    },
    {
     "name": "stdout",
     "output_type": "stream",
     "text": [
      "eval 12\n",
      "Loss\t5.096\n"
     ]
    },
    {
     "data": {
      "application/vnd.jupyter.widget-view+json": {
       "model_id": "74a41e5bb3804b1da49a92a07313c974",
       "version_major": 2,
       "version_minor": 0
      },
      "text/plain": [
       "train 13:   0%|          | 0/250 [00:00<?, ?it/s]"
      ]
     },
     "metadata": {},
     "output_type": "display_data"
    },
    {
     "name": "stdout",
     "output_type": "stream",
     "text": [
      "train 13\n",
      "Loss\t3.976\n"
     ]
    },
    {
     "data": {
      "application/vnd.jupyter.widget-view+json": {
       "model_id": "4f254a9a1a7149d48d151834f619c459",
       "version_major": 2,
       "version_minor": 0
      },
      "text/plain": [
       "eval 13:   0%|          | 0/63 [00:00<?, ?it/s]"
      ]
     },
     "metadata": {},
     "output_type": "display_data"
    },
    {
     "name": "stdout",
     "output_type": "stream",
     "text": [
      "eval 13\n",
      "Loss\t4.702\n"
     ]
    },
    {
     "data": {
      "application/vnd.jupyter.widget-view+json": {
       "model_id": "d4e2536f8d4a4c06ba1d5b3d5afbd61e",
       "version_major": 2,
       "version_minor": 0
      },
      "text/plain": [
       "train 14:   0%|          | 0/250 [00:00<?, ?it/s]"
      ]
     },
     "metadata": {},
     "output_type": "display_data"
    },
    {
     "name": "stdout",
     "output_type": "stream",
     "text": [
      "train 14\n",
      "Loss\t4.166\n"
     ]
    },
    {
     "data": {
      "application/vnd.jupyter.widget-view+json": {
       "model_id": "0fe02d52d894471b8db8b0c82d85bc0e",
       "version_major": 2,
       "version_minor": 0
      },
      "text/plain": [
       "eval 14:   0%|          | 0/63 [00:00<?, ?it/s]"
      ]
     },
     "metadata": {},
     "output_type": "display_data"
    },
    {
     "name": "stdout",
     "output_type": "stream",
     "text": [
      "eval 14\n",
      "Loss\t5.058\n"
     ]
    },
    {
     "data": {
      "application/vnd.jupyter.widget-view+json": {
       "model_id": "3a1b1d46c77643e2b47595720f367c75",
       "version_major": 2,
       "version_minor": 0
      },
      "text/plain": [
       "train 15:   0%|          | 0/250 [00:00<?, ?it/s]"
      ]
     },
     "metadata": {},
     "output_type": "display_data"
    },
    {
     "name": "stdout",
     "output_type": "stream",
     "text": [
      "train 15\n",
      "Loss\t3.979\n"
     ]
    },
    {
     "data": {
      "application/vnd.jupyter.widget-view+json": {
       "model_id": "6fcfc8ee89454d678b7029a81a6840f7",
       "version_major": 2,
       "version_minor": 0
      },
      "text/plain": [
       "eval 15:   0%|          | 0/63 [00:00<?, ?it/s]"
      ]
     },
     "metadata": {},
     "output_type": "display_data"
    },
    {
     "name": "stdout",
     "output_type": "stream",
     "text": [
      "eval 15\n",
      "Loss\t4.602\n"
     ]
    }
   ],
   "source": [
    "for i in trange(15):\n",
    "    train.train(model_quadratic, train_loader_detroit, optimizer_quadratic, args, i)\n",
    "    train.eval(model_quadratic, val_loader_detroit, args, i)"
   ]
  },
  {
   "cell_type": "code",
   "execution_count": 28,
   "id": "b0ffa57a",
   "metadata": {},
   "outputs": [
    {
     "data": {
      "application/vnd.jupyter.widget-view+json": {
       "model_id": "8c074b30a0044d1da4473d8477874394",
       "version_major": 2,
       "version_minor": 0
      },
      "text/plain": [
       "Eval model:   0%|          | 0/63 [00:00<?, ?it/s]"
      ]
     },
     "metadata": {},
     "output_type": "display_data"
    }
   ],
   "source": [
    "pred_scores_quadratic = get_pred_scores(model_quadratic, val_loader_detroit)"
   ]
  },
  {
   "cell_type": "code",
   "execution_count": 29,
   "id": "5d1f50c9",
   "metadata": {},
   "outputs": [],
   "source": [
    "linreg_quadratic = linregress(scores_detroit, pred_scores_quadratic)"
   ]
  },
  {
   "cell_type": "code",
   "execution_count": 30,
   "id": "4532cdb8",
   "metadata": {},
   "outputs": [
    {
     "data": {
      "text/plain": [
       "LinregressResult(slope=0.3260245193531057, intercept=16.66067147992758, rvalue=0.5089406504212509, pvalue=5.3410965930144675e-67, stderr=0.017455043020649503)"
      ]
     },
     "execution_count": 30,
     "metadata": {},
     "output_type": "execute_result"
    }
   ],
   "source": [
    "linreg_quadratic"
   ]
  },
  {
   "cell_type": "code",
   "execution_count": 31,
   "id": "26c0f21c",
   "metadata": {},
   "outputs": [
    {
     "data": {
      "image/png": "[encoded data removed]",
      "text/plain": [
       "<Figure size 432x288 with 1 Axes>"
      ]
     },
     "metadata": {
      "needs_background": "light"
     },
     "output_type": "display_data"
    }
   ],
   "source": [
    "plot_linreg(scores_detroit, pred_scores_quadratic, linreg_quadratic, 'Quadratic model')"
   ]
  }
 ],
 "metadata": {
  "kernel_info": {
   "name": "python38-azureml"
  },
  "kernelspec": {
   "display_name": "Python 3.8 - AzureML",
   "language": "python",
   "name": "python38-azureml"
  },
  "language_info": {
   "codemirror_mode": {
    "name": "ipython",
    "version": 3
   },
   "file_extension": ".py",
   "mimetype": "text/x-python",
   "name": "python",
   "nbconvert_exporter": "python",
   "pygments_lexer": "ipython3",
   "version": "3.8.1"
  },
  "nteract": {
   "version": "nteract-front-end@1.0.0"
  }
 },
 "nbformat": 4,
 "nbformat_minor": 5
}
