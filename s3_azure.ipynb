{
  "cells": [
    {
      "cell_type": "code",
      "source": [
        "# this notebook contains the code to download data from azure dataset for boston, detroit, and MNIST\n",
        "# note to move from s3 to azure, we need to \n",
        "# 1. s3 - azure blob\n",
        "# 2. azure blob - azure datastore\n",
        "# 3. azure datastore - azure dataset\n",
        "# use the code below to do the rest moving\n",
        "\n",
        "import csv\n",
        "\n",
        "header = ['Unnamed', 'image_name', 'score', 'trueskill_category']\n",
        "data = ['0', '13021677_2009_plus_building.jpg', '-1', '0',\n",
        "'0', '13021677_2009_plus_building.jpg', '-1', '0',]\n",
        "\n",
        "\n",
        "with open('countries.csv', 'w', encoding='UTF8', newline='') as f:\n",
        "    writer = csv.writer(f)\n",
        "\n",
        "    # write the header\n",
        "    writer.writerow(header)\n",
        "\n",
        "    # write the data\n",
        "    writer.writerow(data)"
      ],
      "outputs": [],
      "execution_count": 16,
      "metadata": {
        "gather": {
          "logged": 1627513155285
        }
      }
    },
    {
      "cell_type": "code",
      "source": [
        "# azureml-core of version 1.0.72 or higher is required\n",
        "from azureml.core import Workspace, Dataset\n",
        "\n",
        "subscription_id = '15654587-4741-436b-bddc-1514babd9f3c'\n",
        "resource_group = 'gsv_group'\n",
        "workspace_name = 'GSV_workspace'\n",
        "\n",
        "workspace = Workspace(subscription_id, resource_group, workspace_name)\n",
        "\n",
        "dataset = Dataset.get_by_name(workspace, name='The MNIST database of handwritten digits')\n",
        "dataset.download(target_path='/home/azureuser/cloudfiles/code/Users/tingyan.deng/datasets/detroit/imgs', overwrite=True)"
      ],
      "outputs": [
        {
          "output_type": "execute_result",
          "execution_count": 1,
          "data": {
            "text/plain": "['/home/azureuser/cloudfiles/code/Users/tingyan.deng/datasets/detroit/imgs/merged.csv']"
          },
          "metadata": {}
        }
      ],
      "execution_count": 1,
      "metadata": {
        "collapsed": true,
        "jupyter": {
          "source_hidden": false,
          "outputs_hidden": false
        },
        "nteract": {
          "transient": {
            "deleting": false
          }
        },
        "gather": {
          "logged": 1627957770700
        }
      }
    },
    {
      "cell_type": "code",
      "source": [
        "# azureml-core of version 1.0.72 or higher is required\n",
        "from azureml.core import Workspace, Dataset\n",
        "\n",
        "subscription_id = '15654587-4741-436b-bddc-1514babd9f3c'\n",
        "resource_group = 'gsv_group'\n",
        "workspace_name = 'GSV_workspace'\n",
        "\n",
        "workspace = Workspace(subscription_id, resource_group, workspace_name)\n",
        "\n",
        "dataset = Dataset.get_by_name(workspace, name='boston_dataset')\n",
        "dataset.download(target_path='/home/azureuser/cloudfiles/code/Users/tingyan.deng/datasets/boston/imgs', overwrite=False)"
      ],
      "outputs": [],
      "execution_count": 2,
      "metadata": {
        "collapsed": true,
        "jupyter": {
          "source_hidden": false,
          "outputs_hidden": false
        },
        "nteract": {
          "transient": {
            "deleting": false
          }
        },
        "gather": {
          "logged": 1627946377063
        }
      }
    },
    {
      "cell_type": "code",
      "source": [
        "# azureml-core of version 1.0.72 or higher is required\n",
        "from azureml.core import Workspace, Dataset\n",
        "\n",
        "subscription_id = '15654587-4741-436b-bddc-1514babd9f3c'\n",
        "resource_group = 'gsv_group'\n",
        "workspace_name = 'GSV_workspace'\n",
        "\n",
        "workspace = Workspace(subscription_id, resource_group, workspace_name)\n",
        "\n",
        "dataset = Dataset.get_by_name(workspace, name='detroit_dataset')\n",
        "dataset.download(target_path='/home/azureuser/cloudfiles/code/Users/tingyan.deng/datasets/detroit/imgs', overwrite=False)"
      ],
      "outputs": [],
      "execution_count": 2,
      "metadata": {
        "collapsed": true,
        "jupyter": {
          "source_hidden": false,
          "outputs_hidden": false
        },
        "nteract": {
          "transient": {
            "deleting": false
          }
        }
      }
    },
    {
      "cell_type": "code",
      "source": [],
      "outputs": [],
      "execution_count": null,
      "metadata": {
        "collapsed": true,
        "jupyter": {
          "source_hidden": false,
          "outputs_hidden": false
        },
        "nteract": {
          "transient": {
            "deleting": false
          }
        }
      }
    }
  ],
  "metadata": {
    "kernelspec": {
      "name": "python3-azureml",
      "language": "python",
      "display_name": "Python 3.6 - AzureML"
    },
    "language_info": {
      "name": "python",
      "version": "3.6.9",
      "mimetype": "text/x-python",
      "codemirror_mode": {
        "name": "ipython",
        "version": 3
      },
      "pygments_lexer": "ipython3",
      "nbconvert_exporter": "python",
      "file_extension": ".py"
    },
    "kernel_info": {
      "name": "python3-azureml"
    },
    "microsoft": {
      "host": {
        "AzureML": {
          "notebookHasBeenCompleted": true
        }
      }
    },
    "nteract": {
      "version": "nteract-front-end@1.0.0"
    }
  },
  "nbformat": 4,
  "nbformat_minor": 2
}