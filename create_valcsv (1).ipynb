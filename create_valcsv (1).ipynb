{
  "cells": [
    {
      "cell_type": "markdown",
      "source": [
        "This file contains the code to transform a folder full of image to val.csv, which can be feed into \n",
        "our network for testing purpose. The steps are outlined here:\n",
        "\n",
        "1. create an empty dataframe with the columns needed\n",
        "\n",
        "2. feed the image name to a list\n",
        "\n",
        "3. clean the image name to make it only contain the ID we want\n",
        "\n",
        "4. create a dataframe that is the same size of the len(imgs)\n",
        "\n",
        "5. set the column equal to the extracted image names and finish up the rest of the columns\n",
        "\n",
        "Author: Tingyan Deng"
      ],
      "metadata": {
        "nteract": {
          "transient": {
            "deleting": false
          }
        }
      }
    },
    {
      "cell_type": "code",
      "source": [
        "# this notebook process the raw data into val.csv file for testing purpose\n",
        "# create empty table\n",
        "\n",
        "\n",
        "import csv\n",
        "\n",
        "header = ['', 'image_name', 'score', 'trueskill_category']\n",
        "data = ['', '', '', '']\n",
        "\n",
        "\n",
        "with open('val.csv', 'w', encoding='UTF8', newline='') as f:\n",
        "    writer = csv.writer(f)\n",
        "\n",
        "    # write the header\n",
        "    writer.writerow(header)\n",
        "\n",
        "    # write the data\n",
        "    writer.writerow(data)"
      ],
      "outputs": [],
      "execution_count": null,
      "metadata": {
        "collapsed": true,
        "jupyter": {
          "source_hidden": false,
          "outputs_hidden": false
        },
        "nteract": {
          "transient": {
            "deleting": false
          }
        }
      }
    },
    {
      "cell_type": "code",
      "source": [
        "# create a list with all the image names\n",
        "\n",
        "import glob\n",
        "file = glob.glob('/home/azureuser/cloudfiles/code/Users/tingyan.deng/datasets/boston/imgs/*.jpg')\n",
        "file[1]"
      ],
      "outputs": [
        {
          "output_type": "execute_result",
          "execution_count": 6,
          "data": {
            "text/plain": "'/home/azureuser/cloudfiles/code/Users/tingyan.deng/datasets/boston/imgs/1000002000.0_2011_7_buildings.jpg'"
          },
          "metadata": {}
        }
      ],
      "execution_count": 6,
      "metadata": {
        "collapsed": true,
        "jupyter": {
          "source_hidden": false,
          "outputs_hidden": false
        },
        "nteract": {
          "transient": {
            "deleting": false
          }
        },
        "gather": {
          "logged": 1627971221281
        }
      }
    },
    {
      "cell_type": "code",
      "source": [
        "# delete the path in front of the image name\n",
        "\n",
        "new = []\n",
        "for string in file:\n",
        "    sliced = string[72:]\n",
        "    new.append(sliced)\n",
        "print(len(new))"
      ],
      "outputs": [
        {
          "output_type": "stream",
          "name": "stdout",
          "text": [
            "128656\n"
          ]
        }
      ],
      "execution_count": 11,
      "metadata": {
        "collapsed": true,
        "jupyter": {
          "source_hidden": false,
          "outputs_hidden": false
        },
        "nteract": {
          "transient": {
            "deleting": false
          }
        },
        "gather": {
          "logged": 1627971364831
        }
      }
    },
    {
      "cell_type": "code",
      "source": [
        "# create the dataframe\n",
        "\n",
        "import numpy as np\n",
        "import pandas as pd\n",
        "df = pd.DataFrame(index=np.arange(128656), columns=np.arange(4))\n",
        "#print(df)\n",
        "df[1] = df[1].astype(str)\n",
        "df[0] = df[0].astype(str)\n",
        "df[2] = df[2].astype(str)\n",
        "df[3] = df[3].astype(str)\n",
        "df = df.rename(columns={0:''})\n",
        "df = df.rename(columns={1:'image_name'})\n",
        "df = df.rename(columns={2:'score'})\n",
        "df = df.rename(columns={3:'trueskill_category'})\n"
      ],
      "outputs": [],
      "execution_count": 12,
      "metadata": {
        "collapsed": true,
        "jupyter": {
          "source_hidden": false,
          "outputs_hidden": false
        },
        "nteract": {
          "transient": {
            "deleting": false
          }
        },
        "gather": {
          "logged": 1627971371105
        }
      }
    },
    {
      "cell_type": "code",
      "source": [
        "df['image_name'] = new\n",
        "print(df)"
      ],
      "outputs": [
        {
          "output_type": "stream",
          "name": "stdout",
          "text": [
            "                                    image_name score trueskill_category\n",
            "0       nan  1000002000.0_2007_9_buildings.jpg   nan                nan\n",
            "1       nan  1000002000.0_2011_7_buildings.jpg   nan                nan\n",
            "2       nan  1000002000.0_2013_7_buildings.jpg   nan                nan\n",
            "3       nan  1000002000.0_2016_6_buildings.jpg   nan                nan\n",
            "4       nan  1000002000.0_2017_7_buildings.jpg   nan                nan\n",
            "...     ...                                ...   ...                ...\n",
            "128651  nan   903814000.0_2017_6_buildings.jpg   nan                nan\n",
            "128652  nan   903814000.0_2017_7_buildings.jpg   nan                nan\n",
            "128653  nan   903882010.0_2009_9_buildings.jpg   nan                nan\n",
            "128654  nan   903882010.0_2011_7_buildings.jpg   nan                nan\n",
            "128655  nan   903882010.0_2014_9_buildings.jpg   nan                nan\n",
            "\n",
            "[128656 rows x 4 columns]\n"
          ]
        }
      ],
      "execution_count": 13,
      "metadata": {
        "collapsed": true,
        "jupyter": {
          "source_hidden": false,
          "outputs_hidden": false
        },
        "nteract": {
          "transient": {
            "deleting": false
          }
        },
        "gather": {
          "logged": 1627971373765
        }
      }
    },
    {
      "cell_type": "code",
      "source": [
        "df[''] = df.index + 1\n",
        "df['score'] = -1\n",
        "df['trueskill_category'] = 0"
      ],
      "outputs": [],
      "execution_count": 14,
      "metadata": {
        "collapsed": true,
        "jupyter": {
          "source_hidden": false,
          "outputs_hidden": false
        },
        "nteract": {
          "transient": {
            "deleting": false
          }
        },
        "gather": {
          "logged": 1627971386304
        }
      }
    },
    {
      "cell_type": "code",
      "source": [
        "print(df)\n",
        "df.to_csv('/home/azureuser/cloudfiles/code/Users/tingyan.deng/datasets/boston/val.csv')"
      ],
      "outputs": [
        {
          "output_type": "stream",
          "name": "stdout",
          "text": [
            "                                       image_name  score  trueskill_category\n",
            "0            1  1000002000.0_2007_9_buildings.jpg     -1                   0\n",
            "1            2  1000002000.0_2011_7_buildings.jpg     -1                   0\n",
            "2            3  1000002000.0_2013_7_buildings.jpg     -1                   0\n",
            "3            4  1000002000.0_2016_6_buildings.jpg     -1                   0\n",
            "4            5  1000002000.0_2017_7_buildings.jpg     -1                   0\n",
            "...        ...                                ...    ...                 ...\n",
            "128651  128652   903814000.0_2017_6_buildings.jpg     -1                   0\n",
            "128652  128653   903814000.0_2017_7_buildings.jpg     -1                   0\n",
            "128653  128654   903882010.0_2009_9_buildings.jpg     -1                   0\n",
            "128654  128655   903882010.0_2011_7_buildings.jpg     -1                   0\n",
            "128655  128656   903882010.0_2014_9_buildings.jpg     -1                   0\n",
            "\n",
            "[128656 rows x 4 columns]\n"
          ]
        }
      ],
      "execution_count": 16,
      "metadata": {
        "collapsed": true,
        "jupyter": {
          "source_hidden": false,
          "outputs_hidden": false
        },
        "nteract": {
          "transient": {
            "deleting": false
          }
        },
        "gather": {
          "logged": 1627971434072
        }
      }
    },
    {
      "cell_type": "code",
      "source": [],
      "outputs": [],
      "execution_count": null,
      "metadata": {
        "collapsed": true,
        "jupyter": {
          "source_hidden": false,
          "outputs_hidden": false
        },
        "nteract": {
          "transient": {
            "deleting": false
          }
        }
      }
    }
  ],
  "metadata": {
    "kernelspec": {
      "name": "python3-azureml",
      "language": "python",
      "display_name": "Python 3.6 - AzureML"
    },
    "language_info": {
      "name": "python",
      "version": "3.6.9",
      "mimetype": "text/x-python",
      "codemirror_mode": {
        "name": "ipython",
        "version": 3
      },
      "pygments_lexer": "ipython3",
      "nbconvert_exporter": "python",
      "file_extension": ".py"
    },
    "kernel_info": {
      "name": "python3-azureml"
    },
    "microsoft": {
      "host": {
        "AzureML": {
          "notebookHasBeenCompleted": true
        }
      }
    },
    "nteract": {
      "version": "nteract-front-end@1.0.0"
    }
  },
  "nbformat": 4,
  "nbformat_minor": 2
}